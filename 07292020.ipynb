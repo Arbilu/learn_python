{
  "nbformat": 4,
  "nbformat_minor": 0,
  "metadata": {
    "colab": {
      "name": "07292020.ipynb",
      "provenance": [],
      "authorship_tag": "ABX9TyNh3ZXnWWJZ8aLNSXqaXDtx",
      "include_colab_link": true
    },
    "kernelspec": {
      "name": "python3",
      "display_name": "Python 3"
    }
  },
  "cells": [
    {
      "cell_type": "markdown",
      "metadata": {
        "id": "view-in-github",
        "colab_type": "text"
      },
      "source": [
        "<a href=\"https://colab.research.google.com/github/Arbilu/learn_python/blob/master/07292020.ipynb\" target=\"_parent\"><img src=\"https://colab.research.google.com/assets/colab-badge.svg\" alt=\"Open In Colab\"/></a>"
      ]
    },
    {
      "cell_type": "code",
      "metadata": {
        "id": "i4K6smTPO4jf",
        "colab_type": "code",
        "colab": {
          "base_uri": "https://localhost:8080/",
          "height": 72
        },
        "outputId": "71c8c500-368d-411f-e78f-cf1f9d7ad310"
      },
      "source": [
        "print('Starting to make a coffee')\n",
        "cups = int(input('Write how many cups of coffee you will need: \\n >'))\n",
        "print('For ', cups, ' cups of coffee you will need:')\n",
        "print(cups * 200, ' ml of water')\n",
        "print(cups * 50, ' ml of milk')\n",
        "print(cups * 15, ' g of coffee beans')\n",
        "print('Grinding coffee beans')\n",
        "print('Boiling water')\n",
        "print('Mixing boiled water with crushed coffee beans')\n",
        "print('Pouring coffee into the cup')\n",
        "print('Pouring some milk into the cup')\n",
        "print('Coffee is ready!')"
      ],
      "execution_count": null,
      "outputs": [
        {
          "output_type": "stream",
          "text": [
            "Starting to make a coffee\n"
          ],
          "name": "stdout"
        }
      ]
    }
  ]
}