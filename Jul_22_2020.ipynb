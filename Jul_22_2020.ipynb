{
  "nbformat": 4,
  "nbformat_minor": 0,
  "metadata": {
    "colab": {
      "name": "Jul_22_2020.ipynb",
      "provenance": [],
      "authorship_tag": "ABX9TyNY3DEBh0dy0gSFtMk5SeEW",
      "include_colab_link": true
    },
    "kernelspec": {
      "name": "python3",
      "display_name": "Python 3"
    }
  },
  "cells": [
    {
      "cell_type": "markdown",
      "metadata": {
        "id": "view-in-github",
        "colab_type": "text"
      },
      "source": [
        "<a href=\"https://colab.research.google.com/github/Arbilu/learn_python/blob/master/Jul_22_2020.ipynb\" target=\"_parent\"><img src=\"https://colab.research.google.com/assets/colab-badge.svg\" alt=\"Open In Colab\"/></a>"
      ]
    },
    {
      "cell_type": "code",
      "metadata": {
        "id": "uPsK8JWEwuer",
        "colab_type": "code",
        "colab": {
          "base_uri": "https://localhost:8080/",
          "height": 72
        },
        "outputId": "24e14486-5f3f-4a44-c595-373b0fd32410"
      },
      "source": [
        "phrase = \"Elementary, my dear Watson\"\n",
        "print(phrase.capitalize())\n",
        "print(phrase.title())\n",
        "print(phrase.swapcase())\n"
      ],
      "execution_count": 2,
      "outputs": [
        {
          "output_type": "stream",
          "text": [
            "Elementary, my dear watson\n",
            "Elementary, My Dear Watson\n",
            "eLEMENTARY, MY DEAR wATSON\n"
          ],
          "name": "stdout"
        }
      ]
    }
  ]
}