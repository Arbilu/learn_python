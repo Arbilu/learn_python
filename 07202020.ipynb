{
  "nbformat": 4,
  "nbformat_minor": 0,
  "metadata": {
    "colab": {
      "name": "07202020.ipynb",
      "provenance": [],
      "collapsed_sections": [],
      "authorship_tag": "ABX9TyMa5CjwXdEhKHsTWA80xZlB",
      "include_colab_link": true
    },
    "kernelspec": {
      "name": "python3",
      "display_name": "Python 3"
    }
  },
  "cells": [
    {
      "cell_type": "markdown",
      "metadata": {
        "id": "view-in-github",
        "colab_type": "text"
      },
      "source": [
        "<a href=\"https://colab.research.google.com/github/Arbilu/learn_python/blob/master/07202020.ipynb\" target=\"_parent\"><img src=\"https://colab.research.google.com/assets/colab-badge.svg\" alt=\"Open In Colab\"/></a>"
      ]
    },
    {
      "cell_type": "code",
      "metadata": {
        "id": "SBUaF95S9GZZ",
        "colab_type": "code",
        "colab": {
          "base_uri": "https://localhost:8080/",
          "height": 90
        },
        "outputId": "a4b1dc40-ad3d-4ba6-abf5-f94e2f807372"
      },
      "source": [
        "str1"
      ],
      "execution_count": 5,
      "outputs": [
        {
          "output_type": "stream",
          "text": [
            "the lion king\n",
            "THE LION KING\n",
            "MaTRiX\n",
            "MATRIX\n"
          ],
          "name": "stdout"
        }
      ]
    },
    {
      "cell_type": "code",
      "metadata": {
        "colab_type": "code",
        "id": "ztMInPchv4QF",
        "colab": {
          "base_uri": "https://localhost:8080/",
          "height": 90
        },
        "outputId": "e450a0ad-6fef-468e-e706-02079b044458"
      },
      "source": [
        "str1 =input()\n",
        "print(str.upper(str1))\n",
        "str2 = input()\n",
        "print(str.upper(str2))\n"
      ],
      "execution_count": 7,
      "outputs": [
        {
          "output_type": "stream",
          "text": [
            "the lion king\n",
            "THE LION KING\n",
            "MaTRiX\n",
            "MATRIX\n"
          ],
          "name": "stdout"
        }
      ]
    }
  ]
}